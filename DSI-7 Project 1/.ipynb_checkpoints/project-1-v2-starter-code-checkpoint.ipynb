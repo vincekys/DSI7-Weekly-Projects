{
 "cells": [
  {
   "cell_type": "markdown",
   "metadata": {},
   "source": [
    "<img src=\"http://imgur.com/1ZcRyrc.png\" style=\"float: left; margin: 15px; height: 80px\">\n",
    "\n",
    "# Project 1\n",
    "\n",
    "### Building \"Pokemon Stay\"\n",
    "\n",
    "---\n",
    "You are an analyst at a \"scrappy\" online gaming company that specializes in remakes of last year's fads.\n",
    "\n",
    "Your boss, who runs the product development team, is convinced that Pokemon Go's fatal flaw was that you had to actually move around outside. She has design mock-ups for a new game called Pokemon Stay: in this version players still need to move, but just from website to website. Pokemon gyms are now popular online destinations, and catching Pokemon in the \"wild\" simply requires browsing the internet for hours in the comfort of your home.\n",
    "\n",
    "She wants you to program a prototype version of the game, and analyze the planned content to help the team calibrate the design."
   ]
  },
  {
   "cell_type": "markdown",
   "metadata": {},
   "source": [
    "#### Package imports\n",
    "\n",
    "The pprint package below is the only package imported here, and it's not even strictly required to do any of the project. Printing python variables and objects with pprint can help to format them in a \"prettier\" way."
   ]
  },
  {
   "cell_type": "code",
   "execution_count": 1,
   "metadata": {},
   "outputs": [],
   "source": [
    "from pprint import pprint"
   ]
  },
  {
   "cell_type": "markdown",
   "metadata": {},
   "source": [
    "<img src=\"http://imgur.com/l5NasQj.png\" style=\"float: left; margin: 25px 15px 0px 0px; height: 25px\">\n",
    "\n",
    "## 1. Defining a player\n",
    "\n",
    "---\n",
    "\n",
    "The player variables are:\n",
    "\n",
    "    player_id : id code unique to each player (integer)\n",
    "    player_name : entered name of the player (string)\n",
    "    time_played : number of time played the game in minutes (float)\n",
    "    player_pokemon: the player's captured pokemon (dictionary)\n",
    "    gyms_visited: ids of the gyms that a player has visited (list)\n",
    "    \n",
    "Create the components for a player object by defining each of these variables. The dictionary and list variables should just be defined as empty; you can use any (correctly typed) values for the others."
   ]
  },
  {
   "cell_type": "code",
   "execution_count": 2,
   "metadata": {},
   "outputs": [],
   "source": [
    "# define the components of player 1\n",
    "player_id = 1\n",
    "player_name = 'aaron'\n",
    "time_played = 5.5\n",
    "player_pokemon = {}\n",
    "gyms_visited = []"
   ]
  },
  {
   "cell_type": "markdown",
   "metadata": {},
   "source": [
    "<img src=\"http://imgur.com/l5NasQj.png\" style=\"float: left; margin: 25px 15px 0px 0px; height: 25px\">\n",
    "\n",
    "## 2. Defining \"gym\" locations\n",
    "\n",
    "---\n",
    "\n",
    "As the sole programmer, Pokemon Stay will have to start small. To begin, there will be 10 different gym location websites on the internet. The gym locations are:\n",
    "\n",
    "    1. 'reddit.com'\n",
    "    2. 'amazon.com'\n",
    "    3. 'twitter.com'\n",
    "    4. 'linkedin.com'\n",
    "    5. 'ebay.com'\n",
    "    6. 'netflix.com'\n",
    "    7. 'sporcle.com'\n",
    "    8. 'stackoverflow.com'\n",
    "    9. 'github.com'\n",
    "    10. 'quora.com'\n",
    "\n",
    "1. Set up a list of all the gym locations. This will be a list of strings.\n",
    "2. Append two of these locations to your player's list of visited gyms.\n",
    "3. Print the list."
   ]
  },
  {
   "cell_type": "code",
   "execution_count": 3,
   "metadata": {},
   "outputs": [
    {
     "name": "stdout",
     "output_type": "stream",
     "text": [
      "['reddit.com', 'quora.com']\n"
     ]
    }
   ],
   "source": [
    "# create a list containing gym locations\n",
    "pokemon_gyms = [\n",
    "    'reddit.com',\n",
    "    'amazon.com',\n",
    "    'twitter.com',\n",
    "    'linkedin.com',\n",
    "    'ebay.com',\n",
    "    'netflix.com',\n",
    "    'sporcle.com',\n",
    "    'stackoverflow.com',\n",
    "    'github.com',\n",
    "    'quora.com'\n",
    "    ]\n",
    "\n",
    "# append the first and last in location into gyms_visited\n",
    "gyms_visited.append(pokemon_gyms[0])\n",
    "gyms_visited.append(pokemon_gyms[-1])\n",
    "print(gyms_visited)"
   ]
  },
  {
   "cell_type": "markdown",
   "metadata": {},
   "source": [
    "<img src=\"http://imgur.com/l5NasQj.png\" style=\"float: left; margin: 25px 15px 0px 0px; height: 25px\">\n",
    "\n",
    "## 3. Create a pokedex\n",
    "\n",
    "---\n",
    "\n",
    "We also need to create some pokemon to catch. Each pokemon will be defined by these variables:\n",
    "\n",
    "    pokemon_id : unique identifier for each pokemon (integer)\n",
    "    name : the name of the pokemon (string)\n",
    "    type : the category of pokemon (string)\n",
    "    hp : base hitpoints (integer)\n",
    "    attack : base attack (integer)\n",
    "    defense : base defense (integer)\n",
    "    special_attack : base special attack (integer)\n",
    "    special_defense : base sepecial defense (integer)\n",
    "    speed : base speed (integer)\n",
    "\n",
    "We are only going to create 3 different pokemon with these `pokemon_id` and `pokemon_name` values:\n",
    "\n",
    "    1 : 'charmander'\n",
    "    2 : 'squirtle'\n",
    "    3 : 'bulbasaur'\n",
    "\n",
    "Create a dictionary that will contain the pokemon. The keys of the dictionary will be the `pokemon_id` and the values will themselves dictionaries that contain the other pokemon variables. The structure of the pokedex dictionary will start like so:\n",
    "     \n",
    "     {\n",
    "         1: {\n",
    "                 'name':'charmander',\n",
    "                 'type':'fire',\n",
    "                 ...\n",
    "                 \n",
    "The `type` of charmander, squirtle, and bulbasaur should be `'fire'`, `'water'`, and `'poison'` respectively. The other values are up to you, make them anything you like!\n",
    "\n",
    "Print (or pretty print) the pokedex dictionary with the 3 pokemon."
   ]
  },
  {
   "cell_type": "code",
   "execution_count": 4,
   "metadata": {},
   "outputs": [
    {
     "name": "stdout",
     "output_type": "stream",
     "text": [
      "pokedex:\n",
      "{1: {'attack': 50,\n",
      "     'defense': 50,\n",
      "     'hp': 70,\n",
      "     'name': 'charmander',\n",
      "     'special_attack': 95,\n",
      "     'special_defense': 61,\n",
      "     'speed': 74,\n",
      "     'type': 'fire'},\n",
      " 2: {'attack': 50,\n",
      "     'defense': 60,\n",
      "     'hp': 58,\n",
      "     'name': 'squirtle',\n",
      "     'special_attack': 60,\n",
      "     'special_defense': 76,\n",
      "     'speed': 65,\n",
      "     'type': 'water'},\n",
      " 3: {'attack': 50,\n",
      "     'defense': 70,\n",
      "     'hp': 67,\n",
      "     'name': 'bulbasaur',\n",
      "     'special_attack': 46,\n",
      "     'special_defense': 86,\n",
      "     'speed': 56,\n",
      "     'type': 'poison'}}\n"
     ]
    }
   ],
   "source": [
    "# create a dictionary of pokedex: first create a list containing keys, then create a list containing the stats. Finally zip them together to form the dictionary\n",
    "\n",
    "# create list containing the keys of pokedex\n",
    "pokedex_keys = ['name', 'type' ,'hp' ,'attack' ,'defense' ,'special_attack' ,'special_defense' ,'speed']\n",
    "\n",
    "\n",
    "# create lists containing pseudo stats for the 3 pokemons\n",
    "charmander_stats = ['charmander', 'fire', 70, 50, 50, 95, 61, 74]\n",
    "squirtle_stats = ['squirtle', 'water', 58, 50, 60, 60, 76, 65]\n",
    "bulbasaur_stats = ['bulbasaur', 'poison', 67, 50, 70, 46, 86, 56]\n",
    "\n",
    "# zip them together and put it inside a dictionary called pokedex\n",
    "pokedex = {1 : dict(zip(pokedex_keys,charmander_stats)), 2 : dict(zip(pokedex_keys,squirtle_stats)), 3 : dict(zip(pokedex_keys,bulbasaur_stats))}\n",
    "\n",
    "print('pokedex:')\n",
    "pprint(pokedex)"
   ]
  },
  {
   "cell_type": "markdown",
   "metadata": {},
   "source": [
    "<img src=\"http://imgur.com/l5NasQj.png\" style=\"float: left; margin: 25px 15px 0px 0px; height: 25px\">\n",
    "\n",
    "## 4. Create a data structure for players\n",
    "\n",
    "---\n",
    "\n",
    "### 4.1 \n",
    "\n",
    "In order to maintain a database of multiple players, create a dictionary that keeps track of players indexed by `player_id`. \n",
    "\n",
    "The keys of the dictionary will be `player_id` and values will be dictionaries containing each player's variables (from question 1). \n",
    "\n",
    "Construct the `players` dictionary and insert the player that you defined in question 1, then print `players`."
   ]
  },
  {
   "cell_type": "code",
   "execution_count": 5,
   "metadata": {},
   "outputs": [
    {
     "name": "stdout",
     "output_type": "stream",
     "text": [
      "players:\n",
      "\n",
      "{1: {'gyms_visited': ['reddit.com', 'quora.com'],\n",
      "     'player_name': 'aaron',\n",
      "     'player_pokemon': {},\n",
      "     'time_played': 5.5}}\n"
     ]
    }
   ],
   "source": [
    "# create a list containing the components(headers) for players\n",
    "header = ['player_name', 'time_played', 'player_pokemon', 'gyms_visited']\n",
    "\n",
    "# create a list for player1 containing the attributes created in Q1\n",
    "player_1 = [player_name, time_played, player_pokemon, gyms_visited]\n",
    "\n",
    "# create empty players dictionary\n",
    "players = {}\n",
    "\n",
    "# update the dictionary with player 1 (dic zip header and player_1)\n",
    "players.update({1 : dict(zip(header, player_1))})\n",
    "\n",
    "print('players:\\n')\n",
    "pprint(players)"
   ]
  },
  {
   "cell_type": "markdown",
   "metadata": {},
   "source": [
    "---\n",
    "\n",
    "### 4.2\n",
    "\n",
    "Create a new player with `player_id = 2` in the `players` dictionary. Leave the `'player_pokemon'` dictionary empty. Append `'alcatraz'` and `'pacific_beach'` to the `'gyms_visited'` list for player 2.\n",
    "\n",
    "The `'player_name'` and `'time_played'` values are up to you, but must be a string and float, respectively.\n",
    "\n",
    "Remember, the player_id is the key for the player in the players dictionary.\n",
    "\n",
    "Print the `players` dictionary with the new player inserted."
   ]
  },
  {
   "cell_type": "code",
   "execution_count": 6,
   "metadata": {},
   "outputs": [
    {
     "name": "stdout",
     "output_type": "stream",
     "text": [
      "players:\n",
      "\n",
      "{1: {'gyms_visited': ['reddit.com', 'quora.com'],\n",
      "     'player_name': 'aaron',\n",
      "     'player_pokemon': {},\n",
      "     'time_played': 5.5},\n",
      " 2: {'gyms_visited': ['alcatraz', 'pacific_beach'],\n",
      "     'player_name': 'bob',\n",
      "     'player_pokemon': {},\n",
      "     'time_played': 7.2}}\n"
     ]
    }
   ],
   "source": [
    "# create player2's components\n",
    "player_id2 = 2\n",
    "player_name2 = 'bob'\n",
    "time_played2 = 7.2\n",
    "player_pokemon2 = {}\n",
    "gyms_visited2 = []\n",
    "\n",
    "# append new gyms to gyms_visited list for player2\n",
    "gyms_visited2.append('alcatraz')\n",
    "gyms_visited2.append('pacific_beach')\n",
    "\n",
    "# create a list of containing player2's components\n",
    "player_2 = [player_name2, time_played2, player_pokemon2, gyms_visited2]\n",
    "\n",
    "# update players dictionary with player2\n",
    "players.update({2 : dict(zip(header,player_2))})\n",
    "\n",
    "print('players:\\n')\n",
    "pprint(players)"
   ]
  },
  {
   "cell_type": "markdown",
   "metadata": {},
   "source": [
    "<img src=\"http://imgur.com/l5NasQj.png\" style=\"float: left; margin: 25px 15px 0px 0px; height: 25px\">\n",
    "\n",
    "## 5. Add captured pokemon for each player\n",
    "\n",
    "---\n",
    "\n",
    "The `'player_pokemon'` keyed dictionaries for each player keep track of which of the pokemon each player has.\n",
    "\n",
    "The keys of the `'player_pokemon'` dictionaries are the pokemon ids that correspond to the ids in the `pokedex` dictionary you created earlier. The values are integers specifying the stats for the pokemon.\n",
    "\n",
    "Give player 1 a squirtle. Give player 2 charmander and a bulbasaur.\n",
    "\n",
    "Print the players dictionary after adding the pokemon for each player.\n"
   ]
  },
  {
   "cell_type": "code",
   "execution_count": 7,
   "metadata": {},
   "outputs": [
    {
     "name": "stdout",
     "output_type": "stream",
     "text": [
      "players:\n",
      "\n",
      "{1: {'gyms_visited': ['reddit.com', 'quora.com'],\n",
      "     'player_name': 'aaron',\n",
      "     'player_pokemon': {2: {'attack': 50,\n",
      "                            'defense': 60,\n",
      "                            'hp': 58,\n",
      "                            'name': 'squirtle',\n",
      "                            'special_attack': 60,\n",
      "                            'special_defense': 76,\n",
      "                            'speed': 65,\n",
      "                            'type': 'water'}},\n",
      "     'time_played': 5.5},\n",
      " 2: {'gyms_visited': ['alcatraz', 'pacific_beach'],\n",
      "     'player_name': 'bob',\n",
      "     'player_pokemon': {1: {'attack': 50,\n",
      "                            'defense': 50,\n",
      "                            'hp': 70,\n",
      "                            'name': 'charmander',\n",
      "                            'special_attack': 95,\n",
      "                            'special_defense': 61,\n",
      "                            'speed': 74,\n",
      "                            'type': 'fire'},\n",
      "                        3: {'attack': 50,\n",
      "                            'defense': 70,\n",
      "                            'hp': 67,\n",
      "                            'name': 'bulbasaur',\n",
      "                            'special_attack': 46,\n",
      "                            'special_defense': 86,\n",
      "                            'speed': 56,\n",
      "                            'type': 'poison'}},\n",
      "     'time_played': 7.2}}\n"
     ]
    }
   ],
   "source": [
    "# give player 1 squirtle\n",
    "players[1]['player_pokemon'].update({2 : pokedex[2]})\n",
    "\n",
    "# give player 2 charmander and bulbasaur\n",
    "players[2]['player_pokemon'].update({1 : pokedex[1]})\n",
    "players[2]['player_pokemon'].update({3 : pokedex[3]})\n",
    "\n",
    "print('players:\\n')\n",
    "pprint(players)"
   ]
  },
  {
   "cell_type": "markdown",
   "metadata": {},
   "source": [
    "\n",
    "\n",
    "## 6. What gyms have players visited?\n",
    "\n",
    "---\n",
    "<img src=\"http://imgur.com/l5NasQj.png\" style=\"float: left; margin: 25px 15px 0px 0px; height: 25px\">\n",
    "### 6.1\n",
    "\n",
    "Write a for-loop that:\n",
    "\n",
    "1. Iterates through the `pokemon_gyms` list of gym locations you defined before.\n",
    "2. For each gym, iterate through each player in the `players` dictionary with a second, internal for-loop.\n",
    "3. If the player has visited the gym, print out \"[player] has visited [gym location].\", filling in [player] and [gym location] with the current player's name and current gym location."
   ]
  },
  {
   "cell_type": "code",
   "execution_count": 8,
   "metadata": {},
   "outputs": [
    {
     "name": "stdout",
     "output_type": "stream",
     "text": [
      "aaron has visited reddit.com\n",
      "aaron has visited quora.com\n"
     ]
    }
   ],
   "source": [
    "for gym in pokemon_gyms:\n",
    "    for player in players.items():\n",
    "        if gym in player[1]['gyms_visited']:\n",
    "            print('{0} has visited {1}'.format(player[1]['player_name'], gym))"
   ]
  },
  {
   "cell_type": "markdown",
   "metadata": {},
   "source": [
    "<img src=\"http://imgur.com/xDpSobf.png\" style=\"float: left; margin: 25px 15px 0px 0px; height: 25px\">\n",
    "### 6.2\n",
    "\n",
    "How many times did that loop run? If you have N gyms and also N players, how many times would it run as a function of N?\n",
    "\n",
    "Can you think of a more efficient way to accomplish the same thing? \n",
    "\n",
    "(You can write your answer as Markdown text.)"
   ]
  },
  {
   "cell_type": "markdown",
   "metadata": {},
   "source": [
    "## Answer:\n",
    "### - The loop ran 20 times (10 gyms x 2 players)\n",
    "### - N**2 times, assuming number of gyms and number of players remain the same as N"
   ]
  },
  {
   "cell_type": "markdown",
   "metadata": {},
   "source": [
    "<img src=\"http://imgur.com/l5NasQj.png\" style=\"float: left; margin: 25px 15px 0px 0px; height: 25px\">\n",
    "\n",
    "## 7. Calculate player \"power\".\n",
    "\n",
    "---\n",
    "\n",
    "Define a function that will calculate a player's \"power\". Player power is defined as the sum of the base statistics all of their pokemon.\n",
    "\n",
    "Your function will:\n",
    "\n",
    "1. Accept the `players` dictionary, `pokedex` dictionary, and a player_id as arguments.\n",
    "2. For the specified player_id, look up that player's pokemon and their level(s).\n",
    "3. Find and aggregate the attack and defense values for each of the player's pokemon from the `pokedex` dictionary.\n",
    "4. Print \"[player name]'s power is [player power].\", where the player power is the sum of the base statistics for all of their pokemon.\n",
    "5. Return the player's power value.\n",
    "\n",
    "Print out the pokemon power for each of your players."
   ]
  },
  {
   "cell_type": "code",
   "execution_count": 9,
   "metadata": {},
   "outputs": [
    {
     "name": "stdout",
     "output_type": "stream",
     "text": [
      "aaron's power is 110.\n",
      "bob's power is 220.\n"
     ]
    }
   ],
   "source": [
    "def poke_power(players, pokedex, player_id):\n",
    "    \n",
    "    player_power = 0\n",
    "    for pokemon,value in players[player_id]['player_pokemon'].items():\n",
    "        player_power = player_power + pokedex[pokemon]['attack'] + pokedex[pokemon]['defense']\n",
    "\n",
    "    print(\"{0}'s power is {1}.\".format(players[player_id]['player_name'], player_power))\n",
    "\n",
    "poke_power(players, pokedex, 1)\n",
    "poke_power(players, pokedex, 2)"
   ]
  },
  {
   "cell_type": "markdown",
   "metadata": {},
   "source": [
    "<img src=\"http://imgur.com/l5NasQj.png\" style=\"float: left; margin: 25px 15px 0px 0px; height: 25px\">\n",
    "\n",
    "## 8. Load a pokedex file containing all the pokemon\n",
    "\n",
    "---\n",
    "\n",
    "### 8.1\n",
    "\n",
    "While you were putting together the prototype code, your colleagues were preparing a dataset of Pokemon and their attributes. (This was a rush job, so they may have picked some crazy values for some...)\n",
    "\n",
    "The code below loads information from a comma separated value (csv) file. You need to parse this string into a more useable format. The format of the string is:\n",
    "\n",
    "- Rows are separated by newline characters: \\n\n",
    "- Columns are separated by commas: ,\n",
    "- All cells in the csv are double quoted. Ex: \"PokedexNumber\" is the first cell of the first row.\n",
    "\n",
    "\n",
    "Using for-loops, create a list of lists where each list within the overall list is a row of the csv/matrix, and each element in that list is a cell in that row. Additional criteria:\n",
    "\n",
    "1. Quotes are removed from each cell item.\n",
    "2. Numeric column values are converted to floats.\n",
    "3. There are some cells that are empty and have no information. For these cells put a -1 value in place.\n",
    "\n",
    "Your end result is effectively a matrix. Each list in the outer list is a row, and the *j*th elements of list together form the *j*th column, which represents a data attribute. The first three lists in your pokedex list should look like this:\n",
    "\n",
    "    ['PokedexNumber', 'Name', 'Type', 'Total', 'HP', 'Attack', 'Defense', 'SpecialAttack', 'SpecialDefense', 'Speed']\n",
    "    [1.0, 'Bulbasaur', 'GrassPoison', 318.0, 45.0, 49.0, 49.0, 65.0, 65.0, 45.0]\n",
    "    [2.0, 'Ivysaur', 'GrassPoison', 405.0, 60.0, 62.0, 63.0, 80.0, 80.0, 60.0]"
   ]
  },
  {
   "cell_type": "code",
   "execution_count": 10,
   "metadata": {},
   "outputs": [],
   "source": [
    "# Code to read in pokedex info\n",
    "raw_pd = ''\n",
    "pokedex_file = 'pokedex_basic.csv'\n",
    "with open(pokedex_file, 'r') as f:\n",
    "    raw_pd = f.read()"
   ]
  },
  {
   "cell_type": "code",
   "execution_count": 11,
   "metadata": {},
   "outputs": [
    {
     "data": {
      "text/plain": [
       "['PokedexNumber,Name,Type,Total,HP,Attack,Defense,SpecialAttack,SpecialDefense,Speed',\n",
       " '001,Bulbasaur,GrassPoison,318,45,49,49,65,65,45',\n",
       " '002,Ivysaur,GrassPoison,405,60,62,63,80,80,60',\n",
       " '003,Venusaur,GrassPoison,525,80,82,83,100,100,80',\n",
       " '003,VenusaurMega Venusaur,GrassPoison,625,80,100,123,122,120,80',\n",
       " '004,Charmander,Fire,309,39,52,43,60,50,65',\n",
       " '005,Charmeleon,Fire,405,58,64,58,80,65,80',\n",
       " '006,Charizard,FireFlying,534,78,84,78,109,85,100',\n",
       " '006,CharizardMega Charizard X,FireDragon,634,78,130,111,130,85,100',\n",
       " '006,CharizardMega Charizard Y,FireFlying,634,78,104,78,159,115,100']"
      ]
     },
     "execution_count": 11,
     "metadata": {},
     "output_type": "execute_result"
    }
   ],
   "source": [
    "# remove \" and split at \\n\n",
    "data_clean_v1 = raw_pd.replace('\"', '').split('\\n')\n",
    "\n",
    "data_clean_v1[:10]"
   ]
  },
  {
   "cell_type": "code",
   "execution_count": 12,
   "metadata": {},
   "outputs": [
    {
     "data": {
      "text/plain": [
       "[['PokedexNumber',\n",
       "  'Name',\n",
       "  'Type',\n",
       "  'Total',\n",
       "  'HP',\n",
       "  'Attack',\n",
       "  'Defense',\n",
       "  'SpecialAttack',\n",
       "  'SpecialDefense',\n",
       "  'Speed'],\n",
       " ['001',\n",
       "  'Bulbasaur',\n",
       "  'GrassPoison',\n",
       "  '318',\n",
       "  '45',\n",
       "  '49',\n",
       "  '49',\n",
       "  '65',\n",
       "  '65',\n",
       "  '45'],\n",
       " ['002', 'Ivysaur', 'GrassPoison', '405', '60', '62', '63', '80', '80', '60'],\n",
       " ['003',\n",
       "  'Venusaur',\n",
       "  'GrassPoison',\n",
       "  '525',\n",
       "  '80',\n",
       "  '82',\n",
       "  '83',\n",
       "  '100',\n",
       "  '100',\n",
       "  '80'],\n",
       " ['003',\n",
       "  'VenusaurMega Venusaur',\n",
       "  'GrassPoison',\n",
       "  '625',\n",
       "  '80',\n",
       "  '100',\n",
       "  '123',\n",
       "  '122',\n",
       "  '120',\n",
       "  '80']]"
      ]
     },
     "execution_count": 12,
     "metadata": {},
     "output_type": "execute_result"
    }
   ],
   "source": [
    "# split at comma\n",
    "data_clean_v2 = []\n",
    "for element in data_clean_v1:\n",
    "    data_clean_v2.append(element.split(','))\n",
    "\n",
    "data_clean_v2[:5]"
   ]
  },
  {
   "cell_type": "code",
   "execution_count": 13,
   "metadata": {},
   "outputs": [
    {
     "data": {
      "text/plain": [
       "[['PokedexNumber',\n",
       "  'Name',\n",
       "  'Type',\n",
       "  'Total',\n",
       "  'HP',\n",
       "  'Attack',\n",
       "  'Defense',\n",
       "  'SpecialAttack',\n",
       "  'SpecialDefense',\n",
       "  'Speed'],\n",
       " [1.0, 'Bulbasaur', 'GrassPoison', 318.0, 45.0, 49.0, 49.0, 65.0, 65.0, 45.0],\n",
       " [2.0, 'Ivysaur', 'GrassPoison', 405.0, 60.0, 62.0, 63.0, 80.0, 80.0, 60.0]]"
      ]
     },
     "execution_count": 13,
     "metadata": {},
     "output_type": "execute_result"
    }
   ],
   "source": [
    "# convert to float\n",
    "data_cleaned = []\n",
    "for element in data_clean_v2:\n",
    "    rows = []\n",
    "    for e in element:\n",
    "        try:\n",
    "            rows.append(float(e))\n",
    "        except:\n",
    "            rows.append(e)\n",
    "    data_cleaned.append(rows)\n",
    "\n",
    "data_cleaned[:3]"
   ]
  },
  {
   "cell_type": "markdown",
   "metadata": {},
   "source": [
    "<img src=\"http://imgur.com/l5NasQj.png\" style=\"float: left; margin: 25px 15px 0px 0px; height: 25px\">\n",
    "\n",
    "## 9. Write a function to generate the full pokedex\n",
    "\n",
    "---\n",
    "\n",
    "Write a function that recreates the pokedex you made before, but with the data read in from the full pokemon file. The `PokedexNumber` should be used as the `pokemon_id` key values for the dictionary of pokemon.\n",
    "\n",
    "Your function should:\n",
    "\n",
    "1. Take the parsed pokedex information you created above as an argument.\n",
    "2. Return a dictionary in the same format as your original pokedex you created before containing the information from the parsed full pokedex file.\n",
    "\n",
    "To test the function, print out the pokemon with id = 100."
   ]
  },
  {
   "cell_type": "code",
   "execution_count": 14,
   "metadata": {},
   "outputs": [
    {
     "data": {
      "text/plain": [
       "{'Name': 'Voltorb',\n",
       " 'Type': 'Electric',\n",
       " 'Total': 330.0,\n",
       " 'HP': 40.0,\n",
       " 'Attack': 30.0,\n",
       " 'Defense': 50.0,\n",
       " 'SpecialAttack': 55.0,\n",
       " 'SpecialDefense': 55.0,\n",
       " 'Speed': 100.0}"
      ]
     },
     "execution_count": 14,
     "metadata": {},
     "output_type": "execute_result"
    }
   ],
   "source": [
    "def get_poke(index):\n",
    "    \n",
    "    header = data_cleaned[0]\n",
    "\n",
    "    pokedex_full = {row[0] : dict(zip(header[1:], row[1:])) for row in data_cleaned}\n",
    "    return pokedex_full[index]\n",
    "    \n",
    "get_poke(100)"
   ]
  },
  {
   "cell_type": "markdown",
   "metadata": {},
   "source": [
    "\n",
    "## 9. Descriptive statistics on the prototype pokedex\n",
    "\n",
    "<img src=\"http://imgur.com/l5NasQj.png\" style=\"float: left; margin: 25px 15px 0px 0px; height: 25px\">\n",
    "### 9.1\n",
    "\n",
    "What is the population mean and standard deviation of the \"Total\" attribute for all characters in the Pokedex?\n",
    "\n"
   ]
  },
  {
   "cell_type": "code",
   "execution_count": 15,
   "metadata": {},
   "outputs": [
    {
     "name": "stdout",
     "output_type": "stream",
     "text": [
      "mean: 435.1275\n",
      "standard deviation: 119.96202000529168\n"
     ]
    }
   ],
   "source": [
    "import numpy as np\n",
    "\n",
    "total = []\n",
    "for row in data_cleaned[1:]:\n",
    "    total.append(row[3])\n",
    "    \n",
    "mean = np.mean(total)\n",
    "standard_deviation = np.std(total)\n",
    "    \n",
    "print('mean:', mean)\n",
    "print('standard deviation:', standard_deviation)"
   ]
  },
  {
   "cell_type": "markdown",
   "metadata": {},
   "source": [
    "<img src=\"http://imgur.com/l5NasQj.png\" style=\"float: left; margin: 25px 15px 0px 0px; height: 25px\">\n",
    "### 9.2\n",
    "\n",
    "The game is no fun if the characters are wildly unbalanced! Are any characters \"overpowered\", which we'll define as having a \"Total\" more than three standard deviations from the population mean?"
   ]
  },
  {
   "cell_type": "code",
   "execution_count": 16,
   "metadata": {},
   "outputs": [
    {
     "name": "stdout",
     "output_type": "stream",
     "text": [
      "overpowered pokemon: MewtwoMega Mewtwo X\n"
     ]
    }
   ],
   "source": [
    "for row in data_cleaned[1:]:\n",
    "    if row[3] > mean + standard_deviation*3:\n",
    "        print('overpowered pokemon:', row[1])"
   ]
  },
  {
   "cell_type": "markdown",
   "metadata": {},
   "source": [
    "<img src=\"http://imgur.com/xDpSobf.png\" style=\"float: left; margin: 25px 15px 0px 0px; height: 25px\">\n",
    "\n",
    "## 10. Calibrate the frequency of Pokemon\n",
    "\n",
    "The design team wants you to make the powerful Pokemon rare, and the weaklings more common. How would you set the probability $p_i$ of finding Pokemon *i* each time a player visits a gym?\n",
    "\n",
    "Write a function that takes in a Pokedex number and returns a value $p_i$ for that character.\n",
    "\n",
    "Hint: there are many ways you could do this. What do _you_ think makes sense? Start with simplifying assumptions: for example, you could assume that the probabilities of encountering any two Pokemon on one visit to a gym are independent of each other."
   ]
  },
  {
   "cell_type": "markdown",
   "metadata": {},
   "source": [
    "## My Answer:\n",
    "\n",
    "#### The assumption is that the probability of 'catching' pokemons from the pokedex are mutually exclusive to each other.\n",
    "#### 1. Assign a 'z score' to each of the pokemons in pokedex using scipy.stats.zscore. 'z score', in this context, refers to the difference between a pokemon's total power from the mean, divided by the standard deviation.\n",
    "#### 2. Compare the 'z score' against the z table to retrieve the '1 - probability' (using stats.norm.cdf) for each pokemon.\n",
    "\n"
   ]
  },
  {
   "cell_type": "code",
   "execution_count": 17,
   "metadata": {},
   "outputs": [
    {
     "data": {
      "text/plain": [
       "{180.0: 0.9832789715775841,\n",
       " 190.0: 0.9794923791063044,\n",
       " 194.0: 0.9777860993745846,\n",
       " 195.0: 0.977341283537356,\n",
       " 198.0: 0.97596155285183,\n",
       " 200.0: 0.9750030503158553,\n",
       " 205.0: 0.9724658100451011,\n",
       " 210.0: 0.9697174032523131,\n",
       " 213.0: 0.9679618464819852,\n",
       " 215.0: 0.9667454219086736,\n",
       " 218.0: 0.9648496785073134,\n",
       " 220.0: 0.9635372561983226,\n",
       " 224.0: 0.9607921000479289,\n",
       " 236.0: 0.9515348468399579,\n",
       " 237.0: 0.9506904331538047,\n",
       " 240.0: 0.9480865493908376,\n",
       " 244.0: 0.9444460822779485,\n",
       " 245.0: 0.94350518237313,\n",
       " 250.0: 0.9386110051897941,\n",
       " 251.0: 0.9375935458606994,\n",
       " 253.0: 0.935519225989096,\n",
       " 255.0: 0.9333917330837659,\n",
       " 260.0: 0.9278354311339324,\n",
       " 262.0: 0.9255159497245384,\n",
       " 263.0: 0.9243350716126397,\n",
       " 264.0: 0.9231399844481344,\n",
       " 265.0: 0.9219306012995134,\n",
       " 266.0: 0.920706836193981,\n",
       " 269.0: 0.9169484044078747,\n",
       " 270.0: 0.9156662719536788,\n",
       " 273.0: 0.9117307789194309,\n",
       " 275.0: 0.9090320892639445,\n",
       " 278.0: 0.9048700060103283,\n",
       " 280.0: 0.9020184097168176,\n",
       " 281.0: 0.9005693410577975,\n",
       " 285.0: 0.8946163930291713,\n",
       " 288.0: 0.8899854362445005,\n",
       " 289.0: 0.8884098057575865,\n",
       " 290.0: 0.8868180946399997,\n",
       " 292.0: 0.883586222689086,\n",
       " 294.0: 0.8802894221363388,\n",
       " 295.0: 0.8786165569346105,\n",
       " 299.0: 0.8717610036623202,\n",
       " 300.0: 0.8700058983199517,\n",
       " 302.0: 0.8664459828931997,\n",
       " 303.0: 0.8646411109512595,\n",
       " 304.0: 0.8628195916723329,\n",
       " 305.0: 0.8609813992455715,\n",
       " 306.0: 0.8591265099515614,\n",
       " 307.0: 0.8572549021863602,\n",
       " 308.0: 0.855366556485162,\n",
       " 309.0: 0.8534614555455778,\n",
       " 310.0: 0.8515395842505216,\n",
       " 313.0: 0.8456732303103005,\n",
       " 314.0: 0.8436841709064191,\n",
       " 315.0: 0.8416782991130305,\n",
       " 316.0: 0.8396556133818667,\n",
       " 318.0: 0.8355598055997988,\n",
       " 319.0: 0.8334866921964601,\n",
       " 320.0: 0.8313967821876045,\n",
       " 323.0: 0.8250263877414676,\n",
       " 325.0: 0.8206957290337751,\n",
       " 328.0: 0.8140745745241853,\n",
       " 329.0: 0.8118342532583445,\n",
       " 330.0: 0.809577349472261,\n",
       " 334.0: 0.8003846525217541,\n",
       " 335.0: 0.7980454162479632,\n",
       " 336.0: 0.7956898476075381,\n",
       " 340.0: 0.7861053045348247,\n",
       " 341.0: 0.7836688884346257,\n",
       " 345.0: 0.7737640215848947,\n",
       " 348.0: 0.7661702225432379,\n",
       " 349.0: 0.7636079147008218,\n",
       " 350.0: 0.7610302259024204,\n",
       " 351.0: 0.7584372440070659,\n",
       " 352.0: 0.7558290595266518,\n",
       " 355.0: 0.7479142354127747,\n",
       " 358.0: 0.7398661002991165,\n",
       " 360.0: 0.7344280241946161,\n",
       " 362.0: 0.728932873110506,\n",
       " 363.0: 0.7261641878921276,\n",
       " 365.0: 0.7205852074508106,\n",
       " 369.0: 0.7092643788861701,\n",
       " 370.0: 0.7064010145080832,\n",
       " 371.0: 0.7035246623758697,\n",
       " 375.0: 0.6918922497557186,\n",
       " 380.0: 0.6770772415583697,\n",
       " 382.0: 0.6710698754812819,\n",
       " 384.0: 0.6650179909446635,\n",
       " 385.0: 0.6619757793055293,\n",
       " 390.0: 0.646609038888745,\n",
       " 395.0: 0.6309994970254373,\n",
       " 400.0: 0.6151708349734107,\n",
       " 401.0: 0.6119809706826682,\n",
       " 405.0: 0.5991478323010193,\n",
       " 409.0: 0.5862067873991914,\n",
       " 410.0: 0.5829562514927085,\n",
       " 411.0: 0.5797000349967917,\n",
       " 413.0: 0.57317142827337,\n",
       " 414.0: 0.5698994748296735,\n",
       " 415.0: 0.5666227142765821,\n",
       " 418.0: 0.5567658042478814,\n",
       " 420.0: 0.5501745706581636,\n",
       " 423.0: 0.5402622765508791,\n",
       " 424.0: 0.5369522993193414,\n",
       " 425.0: 0.5336397617311304,\n",
       " 428.0: 0.5236890729161343,\n",
       " 430.0: 0.5170466774101976,\n",
       " 431.0: 0.513723588789414,\n",
       " 435.0: 0.500424010292362,\n",
       " 438.0: 0.4904482085211357,\n",
       " 440.0: 0.4838006068994456,\n",
       " 442.0: 0.4771575051708489,\n",
       " 445.0: 0.4672053175865776,\n",
       " 446.0: 0.46389216362957486,\n",
       " 448.0: 0.45727359020685376,\n",
       " 450.0: 0.45066684641743404,\n",
       " 452.0: 0.44407374390720467,\n",
       " 454.0: 0.43749608300722653,\n",
       " 455.0: 0.43421360230745465,\n",
       " 456.0: 0.43093565125936795,\n",
       " 458.0: 0.4243942219595933,\n",
       " 460.0: 0.4178735527208801,\n",
       " 461.0: 0.4146215477413385,\n",
       " 462.0: 0.41137538405770635,\n",
       " 464.0: 0.404901437994005,\n",
       " 465.0: 0.40167408117653647,\n",
       " 466.0: 0.39845341669643997,\n",
       " 467.0: 0.3952396540020672,\n",
       " 468.0: 0.39203300113480655,\n",
       " 470.0: 0.38564184977131144,\n",
       " 471.0: 0.3824577599631972,\n",
       " 472.0: 0.37928159728042743,\n",
       " 473.0: 0.376113562135735,\n",
       " 474.0: 0.3729538533009643,\n",
       " 475.0: 0.36980266786994576,\n",
       " 479.0: 0.35728704129819566,\n",
       " 480.0: 0.35418136803601885,\n",
       " 481.0: 0.3510853634956135,\n",
       " 482.0: 0.34799921203388906,\n",
       " 483.0: 0.34492309605392146,\n",
       " 484.0: 0.34185719597327646,\n",
       " 485.0: 0.33880169019298767,\n",
       " 487.0: 0.3327225648734661,\n",
       " 488.0: 0.3296992917837661,\n",
       " 489.0: 0.3266871058361549,\n",
       " 490.0: 0.32368617490714713,\n",
       " 494.0: 0.31179828176532853,\n",
       " 495.0: 0.30885606657788656,\n",
       " 497.0: 0.30300843451637793,\n",
       " 498.0: 0.30010331934906675,\n",
       " 499.0: 0.29721086861275614,\n",
       " 500.0: 0.29433122720621996,\n",
       " 505.0: 0.28013006129196705,\n",
       " 507.0: 0.2745440577485687,\n",
       " 508.0: 0.2717718134259809,\n",
       " 509.0: 0.2690135716168197,\n",
       " 510.0: 0.2662694522849056,\n",
       " 514.0: 0.25543650876365787,\n",
       " 515.0: 0.25276471088752894,\n",
       " 518.0: 0.24483844897369877,\n",
       " 519.0: 0.24222640263589468,\n",
       " 520.0: 0.23962953537850384,\n",
       " 521.0: 0.23704793838940486,\n",
       " 523.0: 0.2319309067043953,\n",
       " 525.0: 0.22687598399834275,\n",
       " 528.0: 0.21941142929254376,\n",
       " 530.0: 0.21451445931387436,\n",
       " 531.0: 0.21208999612748847,\n",
       " 534.0: 0.20491342972848525,\n",
       " 535.0: 0.20255370435749143,\n",
       " 540.0: 0.19100081022237125,\n",
       " 545.0: 0.17986123468733828,\n",
       " 550.0: 0.16913883134597507,\n",
       " 552.0: 0.1649672423724604,\n",
       " 555.0: 0.15883588862509956,\n",
       " 560.0: 0.1489531779986839,\n",
       " 565.0: 0.13949001063540156,\n",
       " 567.0: 0.13582179411428952,\n",
       " 575.0: 0.12181264117855828,\n",
       " 579.0: 0.11520233736625729,\n",
       " 580.0: 0.11359037113611148,\n",
       " 590.0: 0.09834962436045058,\n",
       " 594.0: 0.09269231078468909,\n",
       " 600.0: 0.08466303624921934,\n",
       " 610.0: 0.07245718564273129,\n",
       " 615.0: 0.06688338292827856,\n",
       " 618.0: 0.06370191621785859,\n",
       " 625.0: 0.05673674542706508,\n",
       " 630.0: 0.052139726894192995,\n",
       " 634.0: 0.04867937238268372,\n",
       " 635.0: 0.04784361314584873,\n",
       " 640.0: 0.04383567567860458,\n",
       " 660.0: 0.03042865124898464,\n",
       " 670.0: 0.025121431112432147,\n",
       " 680.0: 0.02061298103308684,\n",
       " 700.0: 0.013623194258126303,\n",
       " 720.0: 0.00878186877072884,\n",
       " 770.0: 0.002623317808742587,\n",
       " 780.0: 0.002021114127258361,\n",
       " 800.0: 0.0011767515989002941}"
      ]
     },
     "execution_count": 17,
     "metadata": {},
     "output_type": "execute_result"
    }
   ],
   "source": [
    "# calculate z-score followed by probability for each pokemon\n",
    "from scipy import stats\n",
    "\n",
    "sorted_total = sorted(total)\n",
    "zscores = stats.zscore(sorted_total)\n",
    "\n",
    "list_prob = []\n",
    "for score in zscores:\n",
    "    prob = stats.norm.cdf(score)\n",
    "    list_prob.append(1 - prob)\n",
    "\n",
    "prob_i = dict(zip(sorted_total,list_prob))\n",
    "prob_i # get the prob_i of pokemon that has total power of 330"
   ]
  },
  {
   "cell_type": "code",
   "execution_count": 18,
   "metadata": {},
   "outputs": [
    {
     "name": "stdout",
     "output_type": "stream",
     "text": [
      "0.809577349472261\n"
     ]
    }
   ],
   "source": [
    "# define a function get_prob which takes in the index number of a pokemon and returns the corresponding probability of that pokemon\n",
    "\n",
    "def get_prob(index):\n",
    "    \n",
    "    answer = prob_i[get_poke(index)['Total']]\n",
    "    print(answer)\n",
    "    \n",
    "get_prob(100) # check! get prob for pokemon index=100 which has total power of 330"
   ]
  },
  {
   "cell_type": "code",
   "execution_count": null,
   "metadata": {},
   "outputs": [],
   "source": []
  }
 ],
 "metadata": {
  "anaconda-cloud": {},
  "kernelspec": {
   "display_name": "Python 3",
   "language": "python",
   "name": "python3"
  },
  "language_info": {
   "codemirror_mode": {
    "name": "ipython",
    "version": 3
   },
   "file_extension": ".py",
   "mimetype": "text/x-python",
   "name": "python",
   "nbconvert_exporter": "python",
   "pygments_lexer": "ipython3",
   "version": "3.6.8"
  }
 },
 "nbformat": 4,
 "nbformat_minor": 2
}
